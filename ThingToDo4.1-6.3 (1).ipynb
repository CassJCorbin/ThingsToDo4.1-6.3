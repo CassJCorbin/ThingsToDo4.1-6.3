{
 "cells": [
  {
   "cell_type": "code",
   "execution_count": 3,
   "id": "3a14259f-169b-4b16-89f0-38e28043ecb4",
   "metadata": {},
   "outputs": [
    {
     "name": "stdout",
     "output_type": "stream",
     "text": [
      "Guess value is:  9\n",
      "Secret value is:  6\n",
      "Too high!\n"
     ]
    }
   ],
   "source": [
    "#Name: Cassandra Corbin\n",
    "#Date: April 1, 2024\n",
    "#Assignment: Things To Do 4.1-6.3\n",
    "\n",
    "#4.1\n",
    "import random   \n",
    "secret = random.randint(1,10) #Generates random number for secret between 1-10\n",
    "guess = random.randint(1,10   #Generates random number for guess between 1-10\n",
    "print(\"Guess value is: \", guess)  #Prints the value\n",
    "print(\"Secret value is: \",secret)  #Prints the value\n",
    "\n",
    "if guess < secret:   #Checks to see if guess is less than secret\n",
    "    print(\"Too low!\")\n",
    "elif guess > secret:    #Checks to see if guess is greater than secret\n",
    "    print(\"Too high!\")    \n",
    "else:\n",
    "    print(\"Just right!\")   #If the numbers are equal, prints this statement"
   ]
  },
  {
   "cell_type": "code",
   "execution_count": 9,
   "id": "2acf86f9-f40a-45f1-bb3d-ddb82f6f845a",
   "metadata": {},
   "outputs": [
    {
     "name": "stdout",
     "output_type": "stream",
     "text": [
      "cherry\n"
     ]
    }
   ],
   "source": [
    "#4.2\n",
    "small = True   #Assigns small to true\n",
    "green = False   #Assigns green to false\n",
    "if small and green:    #Checks true and false  statement\n",
    "    print(\"pea\")\n",
    "elif small and not green:   #Checks true and false statement\n",
    "    print(\"cherry\")\n",
    "elif not small and green:   #Checks true and false statement\n",
    "    print(\"watermelon\")\n",
    "elif not small and not green:  #Checks true and false statement\n",
    "    print(\"pumpkin\")"
   ]
  },
  {
   "cell_type": "code",
   "execution_count": null,
   "id": "b92710d0-64d7-4384-9c60-7e8a3e5faa46",
   "metadata": {},
   "outputs": [],
   "source": [
    "#6.1\n",
    "list=[3,2,1,0]   #Defines list\n",
    "for item in list:   #Creates loop to go through list\n",
    "    print(item)  #Prints items in list"
   ]
  },
  {
   "cell_type": "code",
   "execution_count": 1,
   "id": "b562e9e8-3515-49f6-8fd7-e64d3d671f70",
   "metadata": {},
   "outputs": [
    {
     "name": "stdout",
     "output_type": "stream",
     "text": [
      "Too low!\n",
      "Too low!\n",
      "Too low!\n",
      "Too low!\n",
      "Too low!\n",
      "Too low!\n",
      "You found it!\n"
     ]
    }
   ],
   "source": [
    "#6.2\n",
    "guess_me=7  #assign variables\n",
    "number=1\n",
    "while True:  #Begin loop\n",
    "    if number < guess_me:  \n",
    "        print(\"Too low!\")\n",
    "    elif number == guess_me:     #Checks to see if number is equal\n",
    "        print(\"You found it!\")\n",
    "        break\n",
    "    else:\n",
    "        print(\"oops\")\n",
    "        break\n",
    "    number +=1   #Increment by 1\n",
    "        "
   ]
  },
  {
   "cell_type": "code",
   "execution_count": 6,
   "id": "c39ece04-5eda-43e4-9f16-90cbd11c73da",
   "metadata": {},
   "outputs": [
    {
     "name": "stdout",
     "output_type": "stream",
     "text": [
      "too low\n",
      "too low\n",
      "too low\n",
      "too low\n",
      "found it!\n"
     ]
    }
   ],
   "source": [
    "#6.3\n",
    "guess_me = 5  #assign variable\n",
    "for number in range(1,10):\n",
    "    if number < guess_me: #Checks to see if number is less than variable\n",
    "        print(\"too low\")\n",
    "    elif number == guess_me:   #Checks to see if number is equal\n",
    "        print(\"found it!\")\n",
    "        break\n",
    "    else:\n",
    "        print(\"oops\")\n",
    "        break   #Break loop\n",
    "\n"
   ]
  },
  {
   "cell_type": "code",
   "execution_count": null,
   "id": "9480a257-7fa7-4493-81fa-9dd0da6ef713",
   "metadata": {},
   "outputs": [],
   "source": []
  },
  {
   "cell_type": "code",
   "execution_count": null,
   "id": "1a7f4cd9-62a5-4740-8250-d107fbf1d55d",
   "metadata": {},
   "outputs": [],
   "source": []
  }
 ],
 "metadata": {
  "kernelspec": {
   "display_name": "Python 3 (ipykernel)",
   "language": "python",
   "name": "python3"
  },
  "language_info": {
   "codemirror_mode": {
    "name": "ipython",
    "version": 3
   },
   "file_extension": ".py",
   "mimetype": "text/x-python",
   "name": "python",
   "nbconvert_exporter": "python",
   "pygments_lexer": "ipython3",
   "version": "3.11.7"
  }
 },
 "nbformat": 4,
 "nbformat_minor": 5
}
